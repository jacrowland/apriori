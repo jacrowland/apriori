{
 "metadata": {
  "language_info": {
   "codemirror_mode": {
    "name": "ipython",
    "version": 3
   },
   "file_extension": ".py",
   "mimetype": "text/x-python",
   "name": "python",
   "nbconvert_exporter": "python",
   "pygments_lexer": "ipython3",
   "version": "3.9.5"
  },
  "orig_nbformat": 2,
  "kernelspec": {
   "name": "python395jvsc74a57bd0ac59ebe37160ed0dfa835113d9b8498d9f09ceb179beaac4002f036b9467c963",
   "display_name": "Python 3.9.5 64-bit"
  },
  "metadata": {
   "interpreter": {
    "hash": "ac59ebe37160ed0dfa835113d9b8498d9f09ceb179beaac4002f036b9467c963"
   }
  }
 },
 "nbformat": 4,
 "nbformat_minor": 2,
 "cells": [
  {
   "cell_type": "code",
   "execution_count": 1,
   "metadata": {},
   "outputs": [],
   "source": [
    "import itertools\n",
    "import numpy as np\n",
    "import pandas as pd"
   ]
  },
  {
   "source": [
    "## Task 1\n",
    "Find the frequent itemsets from the given dataset. Minsup = 0.15 and minconf = 0.80\n"
   ],
   "cell_type": "markdown",
   "metadata": {}
  },
  {
   "cell_type": "code",
   "execution_count": 33,
   "metadata": {},
   "outputs": [
    {
     "output_type": "stream",
     "name": "stdout",
     "text": [
      "    Transactions\n1  A, B, C, D, F\n2     A, B, C, D\n3     A, B, C, D\n4           A, B\n5        B, C, E\n"
     ]
    }
   ],
   "source": [
    "data = {'Transactions':['A, B, C, D, F', 'A, B, C, D', ' A, B, C, D', 'A, B', 'B, C, E']}\n",
    "df = pd.DataFrame(data, index=[1,2,3,4,5])\n",
    "print(df)\n",
    "items = ['A', 'B', 'C', 'D', 'E', 'F']"
   ]
  },
  {
   "source": [
    "Their are six unique items in the data set including A, B, C, D, E and F.\n"
   ],
   "cell_type": "markdown",
   "metadata": {}
  },
  {
   "cell_type": "code",
   "execution_count": 49,
   "metadata": {},
   "outputs": [
    {
     "output_type": "stream",
     "name": "stdout",
     "text": [
      "[('A',), ('B',), ('C',), ('D',), ('E',), ('F',)]\n"
     ]
    }
   ],
   "source": [
    "c_1 = list(itertools.combinations(items, 1))\n",
    "print(c_1)"
   ]
  },
  {
   "source": [
    "### First Iteration\n",
    "For our first iteration we count the number of items of $ C_1 $ and find that none of our sets are below the minimum support threshold. Thus, none are pruned and $C_1 = L_1 $"
   ],
   "cell_type": "markdown",
   "metadata": {}
  },
  {
   "cell_type": "code",
   "execution_count": 50,
   "metadata": {},
   "outputs": [
    {
     "output_type": "stream",
     "name": "stdout",
     "text": [
      "Itemset  sup  sup1\n    {A}    4   0.8\n    {B}    5   1.0\n    {C}    4   0.8\n    {D}    3   0.6\n    {E}    1   0.2\n    {F}    1   0.2\n"
     ]
    }
   ],
   "source": [
    "c_1 = {'Itemset': ['{A}', '{B}', '{C}', '{D}', '{E}', '{F}'], 'sup': [4, 5, 4, 3, 1, 1], 'sup1': [4/5, 5/5, 4/5, 3/5, 1/5, 1/5]}\n",
    "print(pd.DataFrame(c_1).to_string(index=False))\n",
    "l_1 = ['A', 'B', 'C', 'D', 'E', 'F']"
   ]
  },
  {
   "source": [
    "### Second Iteration\n",
    "Create itemsets of size 2 using the items in $L_1$. This produces 15 subsets."
   ],
   "cell_type": "markdown",
   "metadata": {}
  },
  {
   "cell_type": "code",
   "execution_count": 51,
   "metadata": {},
   "outputs": [
    {
     "output_type": "stream",
     "name": "stdout",
     "text": [
      "[('A', 'B'), ('A', 'C'), ('A', 'D'), ('A', 'E'), ('A', 'F'), ('B', 'C'), ('B', 'D'), ('B', 'E'), ('B', 'F'), ('C', 'D'), ('C', 'E'), ('C', 'F'), ('D', 'E'), ('D', 'F'), ('E', 'F')]\n"
     ]
    }
   ],
   "source": [
    "c_2 = list(itertools.combinations(items, 2))\n",
    "print(c_2)"
   ]
  },
  {
   "cell_type": "code",
   "execution_count": 52,
   "metadata": {},
   "outputs": [
    {
     "output_type": "stream",
     "name": "stdout",
     "text": [
      "Itemset  sup  sup1\n {A, B}    4   0.8\n {A, C}    3   0.6\n {A, D}    3   0.6\n {A, E}    0   0.0\n {A, F}    1   0.2\n {B, C}    4   0.8\n {B, D}    3   0.6\n {B, E}    1   0.2\n {B, F}    1   0.2\n {C, D}    3   0.6\n {C, E}    1   0.2\n {C, F}    1   0.2\n {D, E}    0   0.0\n {D, F}    1   0.2\n {E, F}    0   0.0\n"
     ]
    }
   ],
   "source": [
    "c_2 = {'Itemset': ['{A, B}', '{A, C}', '{A, D}', '{A, E}', '{A, F}', '{B, C}', '{B, D}', '{B, E}', '{B, F}', '{C, D}', '{C, E}', '{C, F}', '{D, E}', '{D, F}', '{E, F}'], 'sup':[4,3,3,0,1,4,3,1,1,3,1,1,0,1,0], 'sup1':[4/5,3/5,3/5,0/5,1/5,4/5,3/5,1/5,1/5,3/5,1/5,1/5,0/5,1/5,0/5]}\n",
    "print(pd.DataFrame(c_2).to_string(index=False))"
   ]
  },
  {
   "source": [
    "Three sets above fall below the minsup threshold of 0.15. These include {A, E}, {D, E} and {E, F}. Thus, these are removed and we get $L_2$,"
   ],
   "cell_type": "markdown",
   "metadata": {}
  },
  {
   "cell_type": "code",
   "execution_count": 53,
   "metadata": {},
   "outputs": [
    {
     "output_type": "stream",
     "name": "stdout",
     "text": [
      "Itemset  sup1\n {A, B}   0.8\n {A, C}   0.6\n {A, D}   0.6\n {A, F}   0.2\n {B, C}   0.8\n {B, D}   0.6\n {B, E}   0.2\n {B, F}   0.2\n {C, D}   0.6\n {C, E}   0.2\n {C, F}   0.2\n {D, F}   0.2\n"
     ]
    }
   ],
   "source": [
    "l_2 = {'Itemset': ['{A, B}', '{A, C}', '{A, D}', '{A, F}', '{B, C}', '{B, D}', '{B, E}', '{B, F}', '{C, D}', '{C, E}', '{C, F}', '{D, F}'], 'sup1':[4/5,3/5,3/5,1/5,4/5,3/5,1/5,1/5,3/5,1/5,1/5,1/5]}\r\n",
    "print(pd.DataFrame(l_2).to_string(index=False))\r\n"
   ]
  },
  {
   "cell_type": "code",
   "execution_count": 54,
   "metadata": {},
   "outputs": [
    {
     "output_type": "stream",
     "name": "stdout",
     "text": [
      "[('A', 'B', 'C'), ('A', 'B', 'D'), ('A', 'B', 'E'), ('A', 'B', 'F'), ('A', 'C', 'D'), ('A', 'C', 'E'), ('A', 'C', 'F'), ('A', 'D', 'E'), ('A', 'D', 'F'), ('A', 'E', 'F'), ('B', 'C', 'D'), ('B', 'C', 'E'), ('B', 'C', 'F'), ('B', 'D', 'E'), ('B', 'D', 'F'), ('B', 'E', 'F'), ('C', 'D', 'E'), ('C', 'D', 'F'), ('C', 'E', 'F'), ('D', 'E', 'F')]\n"
     ]
    }
   ],
   "source": [
    "c_3 = list(itertools.combinations(items, 3))\n",
    "toPrune = [('A', 'E'), ('D', 'E'), ('E', 'F')]\n",
    "print(c_3)"
   ]
  },
  {
   "cell_type": "code",
   "execution_count": 55,
   "metadata": {},
   "outputs": [
    {
     "output_type": "stream",
     "name": "stdout",
     "text": [
      "('A', 'B', 'C')\n('A', 'B', 'D')\n('A', 'B', 'E')\n('A', 'B', 'F')\n('A', 'C', 'D')\n('A', 'C', 'E')\n('A', 'C', 'F')\n('A', 'D', 'E')\n('A', 'D', 'F')\n('A', 'E', 'F')\n('B', 'C', 'D')\n('B', 'C', 'E')\n('B', 'C', 'F')\n('B', 'D', 'E')\n('B', 'D', 'F')\n('B', 'E', 'F')\n('C', 'D', 'E')\n('C', 'D', 'F')\n('C', 'E', 'F')\n('D', 'E', 'F')\n"
     ]
    }
   ],
   "source": [
    "for i in c_3:\n",
    "    print(i)"
   ]
  },
  {
   "source": [
    "Then when generating subsets of size three we use these identified subsets of size 2 under the threshold to prune $C_3$ \n",
    "\n",
    "Thus, we remove {A, B, E}, {A, C, E}, {A, D, E}, {A, E, F}, {B, D, E}, {C, D, E}, {D, E, F} and {B, E, F} before continuing to the next iteration. \n",
    "\n",
    "Which leaves us with:"
   ],
   "cell_type": "markdown",
   "metadata": {}
  },
  {
   "cell_type": "code",
   "execution_count": 56,
   "metadata": {},
   "outputs": [],
   "source": [
    "c_3 = [('A', 'B', 'C'),('A', 'B', 'D'),('A', 'B', 'F'),('A', 'C', 'D'),('A', 'C', 'F'),('A', 'D', 'F'),('B', 'C', 'D'),('B', 'C', 'E'),('B', 'C', 'F'),('B', 'D', 'F'),('C', 'D', 'F'),('C', 'E', 'F')]"
   ]
  },
  {
   "source": [
    "### Third Iteration"
   ],
   "cell_type": "markdown",
   "metadata": {}
  },
  {
   "cell_type": "code",
   "execution_count": 57,
   "metadata": {},
   "outputs": [
    {
     "output_type": "stream",
     "name": "stdout",
     "text": [
      "  Itemset  sup  sup1\n(A, B, C)    3   0.6\n(A, B, D)    3   0.6\n(A, B, F)    1   0.2\n(A, C, D)    3   0.6\n(A, C, F)    1   0.2\n(A, D, F)    1   0.2\n(B, C, D)    3   0.6\n(B, C, E)    0   0.0\n(B, C, F)    1   0.2\n(B, D, F)    1   0.2\n(C, D, F)    1   0.2\n(C, E, F)    0   0.0\n"
     ]
    }
   ],
   "source": [
    "c_3 = {'Itemset': c_3, 'sup': [3,3,1,3,1,1,3,0,1,1,1,0], 'sup1': [3/5,3/5,1/5,3/5,1/5,1/5,3/5,0/5,1/5,1/5,1/5,0/5]}\n",
    "print(pd.DataFrame(c_3).to_string(index=False))"
   ]
  },
  {
   "cell_type": "code",
   "execution_count": 58,
   "metadata": {},
   "outputs": [
    {
     "output_type": "stream",
     "name": "stdout",
     "text": [
      "[('A', 'B', 'C', 'D'), ('A', 'B', 'C', 'E'), ('A', 'B', 'C', 'F'), ('A', 'B', 'D', 'E'), ('A', 'B', 'D', 'F'), ('A', 'B', 'E', 'F'), ('A', 'C', 'D', 'E'), ('A', 'C', 'D', 'F'), ('A', 'C', 'E', 'F'), ('A', 'D', 'E', 'F'), ('B', 'C', 'D', 'E'), ('B', 'C', 'D', 'F'), ('B', 'C', 'E', 'F'), ('B', 'D', 'E', 'F'), ('C', 'D', 'E', 'F')]\n"
     ]
    }
   ],
   "source": [
    "c_4 = list(itertools.combinations(items, 4))\n",
    "print(c_4)"
   ]
  },
  {
   "source": [
    "{B, C, E} and {C, E, F} fall below the threshold. So we pruned these from the sets of size 4 above. This gives us c_4 below..."
   ],
   "cell_type": "markdown",
   "metadata": {}
  },
  {
   "cell_type": "code",
   "execution_count": 59,
   "metadata": {},
   "outputs": [],
   "source": [
    "c_4 = [('A', 'B', 'C', 'D'),('A', 'B', 'C', 'F'),('A', 'B', 'D', 'E'),('A', 'B', 'D', 'F'),('A', 'B', 'E', 'F'),('A', 'C', 'D', 'E'),('A', 'C', 'D', 'F'),('A', 'D', 'E', 'F'),('B', 'C', 'D', 'E'),('B', 'C', 'D', 'F'),('B', 'D', 'E', 'F'),]"
   ]
  },
  {
   "source": [
    "### Forth Iteration"
   ],
   "cell_type": "markdown",
   "metadata": {}
  },
  {
   "cell_type": "code",
   "execution_count": 60,
   "metadata": {},
   "outputs": [
    {
     "output_type": "stream",
     "name": "stdout",
     "text": [
      "     Itemset  sup  sup1\n(A, B, C, D)    3   0.6\n(A, B, C, F)    1   0.2\n(A, B, D, E)    0   0.0\n(A, B, D, F)    1   0.2\n(A, B, E, F)    0   0.0\n(A, C, D, E)    0   0.0\n(A, C, D, F)    1   0.2\n(A, D, E, F)    0   0.0\n(B, C, D, E)    0   0.0\n(B, C, D, F)    1   0.2\n(B, D, E, F)    0   0.0\n"
     ]
    }
   ],
   "source": [
    "c_4 = {'Itemset': c_4, 'sup': [3,1,0,1,0,0,1,0,0,1,0], 'sup1': [3/5,1/5,0,1/5,0,0,1/5,0,0,1/5,0]}\n",
    "print(pd.DataFrame(c_4).to_string(index=False))"
   ]
  },
  {
   "source": [
    "Here we pruned all except {A, B, C, D}, {A, B, C, F}, {A, B, D, F}, {A, C, D, F} and {B, C, D, F}.\n",
    "\n",
    "We prune subsets of size 5 that contain:\n",
    "(A, B, D, E),\n",
    "(A, B, E, F),\n",
    "(A, C, D, E),\n",
    "(A, D, E, F),\n",
    "(B, C, D, E),\n",
    "(B, D, E, F).\n",
    "\n",
    "This leaves us with only one set remaining {A, B, C, D, F}."
   ],
   "cell_type": "markdown",
   "metadata": {}
  },
  {
   "cell_type": "code",
   "execution_count": 61,
   "metadata": {},
   "outputs": [
    {
     "output_type": "stream",
     "name": "stdout",
     "text": [
      "('A', 'B', 'C', 'D', 'E')\n('A', 'B', 'C', 'D', 'F')\n('A', 'B', 'C', 'E', 'F')\n('A', 'B', 'D', 'E', 'F')\n('A', 'C', 'D', 'E', 'F')\n('B', 'C', 'D', 'E', 'F')\n"
     ]
    }
   ],
   "source": [
    "c_5 = list(itertools.combinations(items, 5))\n",
    "for c in c_5:\n",
    "    print(c)"
   ]
  },
  {
   "source": [
    "This set occurs once with a support of $1/5$."
   ],
   "cell_type": "markdown",
   "metadata": {}
  },
  {
   "source": [
    "c_5 = [('A', 'B', 'C', 'D', 'F')]"
   ],
   "cell_type": "code",
   "metadata": {},
   "execution_count": 62,
   "outputs": []
  },
  {
   "source": [
    "### Generate itemsets from remaining set\n",
    "\n",
    "Find all sets of size from 1 to k from c_5 where k is the length of c_5."
   ],
   "cell_type": "markdown",
   "metadata": {}
  },
  {
   "cell_type": "code",
   "execution_count": 63,
   "metadata": {},
   "outputs": [
    {
     "output_type": "error",
     "ename": "NameError",
     "evalue": "name 'sets' is not defined",
     "traceback": [
      "\u001b[1;31m---------------------------------------------------------------------------\u001b[0m",
      "\u001b[1;31mNameError\u001b[0m                                 Traceback (most recent call last)",
      "\u001b[1;32m<ipython-input-63-834c7213d69f>\u001b[0m in \u001b[0;36m<module>\u001b[1;34m\u001b[0m\n\u001b[0;32m      8\u001b[0m         \u001b[0mitemsets\u001b[0m\u001b[1;33m.\u001b[0m\u001b[0mappend\u001b[0m\u001b[1;33m(\u001b[0m\u001b[0ms\u001b[0m\u001b[1;33m)\u001b[0m\u001b[1;33m\u001b[0m\u001b[1;33m\u001b[0m\u001b[0m\n\u001b[0;32m      9\u001b[0m \u001b[1;33m\u001b[0m\u001b[0m\n\u001b[1;32m---> 10\u001b[1;33m \u001b[0mprint\u001b[0m\u001b[1;33m(\u001b[0m\u001b[0msets\u001b[0m\u001b[1;33m)\u001b[0m\u001b[1;33m\u001b[0m\u001b[1;33m\u001b[0m\u001b[0m\n\u001b[0m\u001b[0;32m     11\u001b[0m \u001b[0mitemsets\u001b[0m \u001b[1;33m=\u001b[0m \u001b[1;33m{\u001b[0m\u001b[1;34m'Itemset'\u001b[0m\u001b[1;33m:\u001b[0m \u001b[0mitemsets\u001b[0m\u001b[1;33m,\u001b[0m \u001b[1;34m'sup'\u001b[0m\u001b[1;33m:\u001b[0m \u001b[1;33m[\u001b[0m\u001b[1;36m0\u001b[0m\u001b[1;33m*\u001b[0m\u001b[1;36m30\u001b[0m\u001b[1;33m]\u001b[0m\u001b[1;33m}\u001b[0m\u001b[1;33m\u001b[0m\u001b[1;33m\u001b[0m\u001b[0m\n\u001b[0;32m     12\u001b[0m \u001b[0mprint\u001b[0m\u001b[1;33m(\u001b[0m\u001b[0mpd\u001b[0m\u001b[1;33m.\u001b[0m\u001b[0mDataFrame\u001b[0m\u001b[1;33m(\u001b[0m\u001b[0mitemsets\u001b[0m\u001b[1;33m)\u001b[0m\u001b[1;33m.\u001b[0m\u001b[0mto_string\u001b[0m\u001b[1;33m(\u001b[0m\u001b[0mindex\u001b[0m\u001b[1;33m=\u001b[0m\u001b[1;32mFalse\u001b[0m\u001b[1;33m)\u001b[0m\u001b[1;33m)\u001b[0m\u001b[1;33m\u001b[0m\u001b[1;33m\u001b[0m\u001b[0m\n",
      "\u001b[1;31mNameError\u001b[0m: name 'sets' is not defined"
     ]
    }
   ],
   "source": [
    "s4 = list(itertools.combinations(['A', 'B', 'C', 'D', 'F'], 4))\n",
    "s3 = list(itertools.combinations(['A', 'B', 'C', 'D', 'F'], 3))\n",
    "s2 = list(itertools.combinations(['A', 'B', 'C', 'D', 'F'], 2))\n",
    "s1 = list(itertools.combinations(['A', 'B', 'C', 'D', 'F'], 1))\n",
    "itemsets = []\n",
    "for setList in [s4, s3, s2, s1]:\n",
    "    for s in setList:\n",
    "        itemsets.append(s)\n",
    "\n",
    "print(sets)\n",
    "itemsets = {'Itemset': itemsets, 'sup': [0*30]}\n",
    "print(pd.DataFrame(itemsets).to_string(index=False))"
   ]
  },
  {
   "source": [
    "For the rules generated from this frequent data set we determine if they sit above our confidence threshold.\n",
    "Which is calculated as $super(i)/super(s)$. Which is (1/5) / super(s). We accept if this is > minconfig."
   ],
   "cell_type": "markdown",
   "metadata": {}
  },
  {
   "cell_type": "code",
   "execution_count": 127,
   "metadata": {},
   "outputs": [
    {
     "output_type": "stream",
     "name": "stdout",
     "text": [
      "['A', 'B', 'C', 'D', 'E', 'F']\n"
     ]
    }
   ],
   "source": []
  },
  {
   "cell_type": "code",
   "execution_count": 74,
   "metadata": {},
   "outputs": [
    {
     "output_type": "stream",
     "name": "stdout",
     "text": [
      "1\n[['A', 'B', 'C', 'D', 'F']]\n"
     ]
    }
   ],
   "source": [
    "l_4 = [{'A', 'B', 'C', 'D'}, {'A', 'B', 'C', 'F'}, {'A', 'B', 'D', 'F'}, {'A', 'C', 'D', 'F'}, {'B', 'C', 'D', 'F'}]\n",
    "\n",
    "def generateItemSets(items:set, k:int)->list:\n",
    "    \"\"\"\n",
    "    Generates combinations of itemsets and returns a list of sets\n",
    "\n",
    "    Parameters\n",
    "    items (set): The set of items to generate combinations from\n",
    "    k (int): The length of the generated sets\n",
    "\n",
    "    Returns:\n",
    "    list: List of the generated combinations of length k\n",
    "    \"\"\"\n",
    "    pairs = list(itertools.combinations(items, 2))\n",
    "\n",
    "    itemsets = []\n",
    "    for pair in pairs:\n",
    "        set1 = pair[0]\n",
    "        set2 = pair[1]\n",
    "        set3 = set1.union(set2)\n",
    "        set3 = sorted(list(set3))\n",
    "        if set3 not in itemsets and len(set3) == k:\n",
    "\n",
    "            itemsets.append(set3)\n",
    "    return itemsets\n",
    "c_5 = generateItemSets(l_4, 5)\n",
    "\n",
    "print(len(c_5))\n",
    "print(c_5)"
   ]
  },
  {
   "cell_type": "code",
   "execution_count": null,
   "metadata": {},
   "outputs": [],
   "source": []
  }
 ]
}