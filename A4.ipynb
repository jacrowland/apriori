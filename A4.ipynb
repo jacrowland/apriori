{
 "metadata": {
  "language_info": {
   "codemirror_mode": {
    "name": "ipython",
    "version": 3
   },
   "file_extension": ".py",
   "mimetype": "text/x-python",
   "name": "python",
   "nbconvert_exporter": "python",
   "pygments_lexer": "ipython3",
   "version": "3.9.2"
  },
  "orig_nbformat": 2,
  "kernelspec": {
   "name": "python392jvsc74a57bd0765f0e6a717cdef1b96705705fe4f7f20bca40e4a56da864daf3394675fda3ca",
   "display_name": "Python 3.9.2 64-bit"
  }
 },
 "nbformat": 4,
 "nbformat_minor": 2,
 "cells": [
  {
   "cell_type": "code",
   "execution_count": 20,
   "metadata": {},
   "outputs": [],
   "source": [
    "import itertools\n",
    "import numpy as np\n",
    "import pandas as pd"
   ]
  },
  {
   "source": [
    "## Task 1\n",
    "Find the frequent itemsets from the given dataset. Minsup = 0.15 and minconf = 0.80\n"
   ],
   "cell_type": "markdown",
   "metadata": {}
  },
  {
   "cell_type": "code",
   "execution_count": 21,
   "metadata": {},
   "outputs": [
    {
     "output_type": "stream",
     "name": "stdout",
     "text": [
      "    Transactions\n1  A, B, C, D, F\n2     A, B, C, D\n3     A, B, C, D\n4           A, B\n5        B, C, E\n"
     ]
    }
   ],
   "source": [
    "data = {'Transactions':['A, B, C, D, F', 'A, B, C, D', ' A, B, C, D', 'A, B', 'B, C, E']}\n",
    "df = pd.DataFrame(data, index=[1,2,3,4,5])\n",
    "print(df)\n",
    "items = ['A', 'B', 'C', 'D', 'E', 'F']"
   ]
  },
  {
   "source": [
    "Their are six unique items in the data set including A, B, C, D, E and F.\n"
   ],
   "cell_type": "markdown",
   "metadata": {}
  },
  {
   "cell_type": "code",
   "execution_count": 22,
   "metadata": {},
   "outputs": [],
   "source": [
    "c_1 = list(itertools.combinations(items, 1))"
   ]
  },
  {
   "source": [
    "### First Iteration\n",
    "For our first iteration we count the number of items of $ C_1 $ and find that none of our sets are below the minimum support threshold. Thus, none are pruned."
   ],
   "cell_type": "markdown",
   "metadata": {}
  },
  {
   "cell_type": "code",
   "execution_count": 23,
   "metadata": {},
   "outputs": [
    {
     "output_type": "stream",
     "name": "stdout",
     "text": [
      "Itemset  sup\n    {A}  0.8\n    {B}  1.0\n    {C}  0.8\n    {D}  0.6\n    {E}  0.2\n    {F}  0.2\n"
     ]
    }
   ],
   "source": [
    "c_1 = {'Itemset': ['{A}', '{B}', '{C}', '{D}', '{E}', '{F}'], 'sup': [4/5, 5/5, 4/5, 3/5, 1/5, 1/5]}\n",
    "print(pd.DataFrame(c_1).to_string(index=False))"
   ]
  },
  {
   "source": [
    "### Second Iteration"
   ],
   "cell_type": "markdown",
   "metadata": {}
  },
  {
   "cell_type": "code",
   "execution_count": 24,
   "metadata": {},
   "outputs": [],
   "source": [
    "c_2 = list(itertools.combinations(items, 2))"
   ]
  },
  {
   "cell_type": "code",
   "execution_count": null,
   "metadata": {},
   "outputs": [],
   "source": []
  }
 ]
}