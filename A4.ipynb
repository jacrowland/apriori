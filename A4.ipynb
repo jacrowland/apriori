{
 "metadata": {
  "language_info": {
   "codemirror_mode": {
    "name": "ipython",
    "version": 3
   },
   "file_extension": ".py",
   "mimetype": "text/x-python",
   "name": "python",
   "nbconvert_exporter": "python",
   "pygments_lexer": "ipython3",
   "version": "3.9.5"
  },
  "orig_nbformat": 2,
  "kernelspec": {
   "name": "python395jvsc74a57bd0ac59ebe37160ed0dfa835113d9b8498d9f09ceb179beaac4002f036b9467c963",
   "display_name": "Python 3.9.5 64-bit"
  },
  "metadata": {
   "interpreter": {
    "hash": "ac59ebe37160ed0dfa835113d9b8498d9f09ceb179beaac4002f036b9467c963"
   }
  }
 },
 "nbformat": 4,
 "nbformat_minor": 2,
 "cells": [
  {
   "source": [
    "# COMPSCI 361 A4 S1 2021"
   ],
   "cell_type": "markdown",
   "metadata": {}
  },
  {
   "source": [
    "## Task 1\n",
    "Find the frequent itemsets from the given dataset. Minsup = 0.15 and minconf = 0.80\n"
   ],
   "cell_type": "markdown",
   "metadata": {}
  },
  {
   "source": [
    "## Task 2"
   ],
   "cell_type": "markdown",
   "metadata": {}
  },
  {
   "cell_type": "code",
   "execution_count": 40,
   "metadata": {},
   "outputs": [],
   "source": [
    "import csv\n",
    "import itertools\n",
    "import time\n",
    "import pandas as pd"
   ]
  },
  {
   "cell_type": "code",
   "execution_count": 41,
   "metadata": {},
   "outputs": [],
   "source": [
    "class AssociationRule():\n",
    "    \"\"\"\n",
    "    Represents an association rule in the form {body} -> {head}\n",
    "\n",
    "    Parameters:\n",
    "    body (set): The set of items in the body of the association rule\n",
    "    head (set): The set of items in the head of the association rule\n",
    "\n",
    "    \"\"\"\n",
    "    def __init__(self, body:set, head:set):\n",
    "        self.head = head\n",
    "        self.body = body\n",
    "        self.itemset = body.union(head)\n",
    "        self.confidence = None\n",
    "        self.support = None\n",
    "        self.lift = None\n",
    "\n",
    "    def __str__(self) -> str:\n",
    "        return \"{} -> {}\".format(self.body, self.head)"
   ]
  },
  {
   "cell_type": "code",
   "execution_count": 42,
   "metadata": {},
   "outputs": [],
   "source": [
    "\n",
    "class Apriori():\n",
    "    \"\"\"\n",
    "    This object implements the Apriori unsupervised machine learning algorithm \n",
    "    for frequent item set mining and association rule learning\n",
    "    \"\"\"\n",
    "    def __init__(self, minsup:float, minconf:float, minlift:float, path:str):\n",
    "        \"\"\"Initalise the Apiori class\n",
    "\n",
    "        Parameters:\n",
    "        minsup (float): Minimuim support\n",
    "        minconf (float): Minimum confidence\n",
    "        minlift (float): Minimum lift\n",
    "        path (str): Transaction CSV path - each line is transaction of items seperated by comma\n",
    "        items (set): The set of unique items found across all transactions - initalised by generateUniqueItemSet()\n",
    "        transactions (list): A list of sets for each transaction - where each is a set of items\n",
    "\n",
    "        Returns:\n",
    "        None:Returning value\n",
    "        \"\"\"\n",
    "        self.minsup = minsup\n",
    "        self.minconf = minconf\n",
    "        self.minlift = minlift\n",
    "        self.path = path\n",
    "        self.transactions = []\n",
    "        self.items = []\n",
    "        self.importTransactions()\n",
    "        self.generateUniqueItemSet()\n",
    "\n",
    "    def run(self):\n",
    "        \"\"\"\n",
    "        Runs the Apriori itemset frequency algorithm and returns a sorted list of association rules that pass the minsup, minconf and minlift rules\n",
    "        \"\"\"\n",
    "        print(\"Finding association rules from {} transactions and {} unique items...\".format(len(self.transactions), len(self.items)))\n",
    "        frequentSets = self.generateFrequentSets() # find all frequent itemsets of length 1 to k-1\n",
    "        associationRules = self.generateAssociationRules(frequentSets) # generate rules that pass the minsup, minlift and minsup thresholds\n",
    "        associationRules = self.sortAssociationRules(associationRules) # sorts rules by length, lift, confidence and support\n",
    "        print(\"Complete.\")\n",
    "        return frequentSets, associationRules\n",
    "\n",
    "    def generateAssociationRules(self, frequentSets:list)->list:\n",
    "        \"\"\"\n",
    "        Generates a list of association rules that meet the confidence and lift thresholds\n",
    "\n",
    "        Parameters:\n",
    "        frequentSets (list): A list of frequent itemsets\n",
    "\n",
    "        Returns:\n",
    "        list: A list containing the association rules that pass the support, confidence and lift thresholds\n",
    "        \"\"\"\n",
    "        associationRules = []\n",
    "        # partition the set  \n",
    "        for itemset in frequentSets:\n",
    "            for i in range(len(itemset)):\n",
    "                for c in [c for c in itertools.combinations(itemset, i+1)]:\n",
    "                    body = set(list(c))\n",
    "                    head = set([i for i in itemset if not i in c])\n",
    "                    if (len(head) > 0 and len(body) > 0):\n",
    "                        # from head/body partitions create association rules \n",
    "                        associationRule = AssociationRule(body, head) # X -> Y\n",
    "                        associationRule.support = self.calculateSupport(associationRule.itemset)\n",
    "                        associationRule.confidence = self.calculateConfidence(associationRule.itemset, associationRule.body)\n",
    "                        associationRule.lift = self.calculateLift(associationRule.body, associationRule.head, associationRule.confidence)\n",
    "                        # test is rule passes minconf, minsup and minlift\n",
    "                        if (associationRule.confidence >= self.minconf) and (associationRule.support >= self.minsup) and (associationRule.lift >= self.minlift):\n",
    "                            associationRules.append(associationRule)\n",
    "        return associationRules\n",
    "\n",
    "    def generateFrequentSets(self)->list:\n",
    "        \"\"\"\n",
    "        Implements the Apriori frequent itemset generation algorithm.\n",
    "        Where itemsets is c_k and frequentSets = l_k \n",
    "\n",
    "        Returns:\n",
    "        list: A list of frequent itemsets of size k-1\n",
    "        \"\"\"\n",
    "        allFrequentSets = []\n",
    "\n",
    "        # Generate frequent itemsets of length k\n",
    "        frequentSets, infrequentSets = self.eliminateCandidates(self.items) # c_1\n",
    "        for fset in frequentSets:\n",
    "            allFrequentSets.append(fset)\n",
    "        # Repeat until no new frequent itemsets are identified\n",
    "        k = 1\n",
    "        while True:  \n",
    "            k += 1\n",
    "            print(\"k: \" + str(k) + \"    \" , end=\"\\n\")\n",
    "            # Generate length (k+1) candidate itemsets from length k frequent itemsets\n",
    "            itemsets = self.generateItemSets(frequentSets, k)\n",
    "            # Prune candidate itemsets containing subsets of length k that are infrequent\n",
    "            itemsets = self.prune(itemsets, infrequentSets)\n",
    "            # Count the support of each candidate by scanning the DB\n",
    "            # Eliminate candidates that are infrequent, leaving only those that are frequent\n",
    "            prevFrequentSets = frequentSets.copy() # holds a copy of frequent sets for k-1\n",
    "            frequentSets, infrequentSets = self.eliminateCandidates(itemsets)\n",
    "            # Runs until no frequent itemsets are identified\n",
    "            if len(frequentSets) == 0:\n",
    "                frequentSets = prevFrequentSets\n",
    "                break\n",
    "            # stores all the frequent itemsets of size k\n",
    "            for fset in frequentSets:\n",
    "                allFrequentSets.append(fset)\n",
    "        return allFrequentSets\n",
    "\n",
    "    def sortAssociationRules(self, associationRules:list)->list: # TODO: sorted output list\n",
    "        \"\"\"\n",
    "        Sorts the given list of association rules by four different attributes.\n",
    "        Including by itemset length (decreasing), minlift, minconf and minsup (decreasing)\n",
    "\n",
    "        Paramaters:\n",
    "        associationRules (list): A list of AssociationRule objects\n",
    "\n",
    "        Returns:\n",
    "        list: A sorted list of AssociationRule objects\n",
    "\n",
    "        \"\"\"\n",
    "        associationRules = sorted(associationRules, key=lambda x: x.support, reverse=True) # support (decreasing)\n",
    "        associationRules = sorted(associationRules, key=lambda x: x.confidence, reverse=False) # confidence\n",
    "        associationRules = sorted(associationRules, key=lambda x: x.lift, reverse=False) # lift value\n",
    "        associationRules = sorted(associationRules, key=lambda x: len(x.itemset), reverse=True) # number of items (decreasing)\n",
    "\n",
    "        return associationRules\n",
    "    \n",
    "    def eliminateCandidates(self, itemsets:list)->tuple:\n",
    "        \"\"\"\n",
    "        Sorts candiadate itemsets by calculating the support value and comparing to the mininimum support value\n",
    "\n",
    "        Parameters:\n",
    "        itemsets (list): A list of sets to sort\n",
    "\n",
    "        Returns:\n",
    "        tuple: Returns a tuple of two sets. Containing the eliminated rules and one containing rules that pass\n",
    "        \"\"\"\n",
    "        frequentSets = []\n",
    "        infrequentSets = []\n",
    "        for i in range(len(itemsets)):\n",
    "            if not self.calculateSupport(itemsets[i]) < self.minsup:\n",
    "                frequentSets.append(itemsets[i])\n",
    "            else:\n",
    "                infrequentSets.append(itemsets[i])\n",
    "        return frequentSets, infrequentSets\n",
    "\n",
    "    def generateItemSets(self, items:set, k:int)->list:\n",
    "        \"\"\"\n",
    "        Generates combinations of itemsets and returns a list of sets\n",
    "\n",
    "        Parameters\n",
    "        items (set): The set of items to generate combinations from\n",
    "        k (int): The length of the generated sets\n",
    "\n",
    "        Returns:\n",
    "        list: List of the generated combinations of length k\n",
    "        \"\"\"\n",
    "        pairs = list(itertools.combinations(items, 2))\n",
    "\n",
    "        itemsets = []\n",
    "        for pair in pairs:\n",
    "            set1 = pair[0]\n",
    "            set2 = pair[1]\n",
    "            set3 = set1.union(set2)\n",
    "            if set3 not in itemsets and len(set3) == k:\n",
    "                itemsets.append(set3)\n",
    "        return itemsets\n",
    "\n",
    "    def generateUniqueItemSet(self):\n",
    "        \"\"\"\n",
    "        Generates a set of items that appear across all transactions. Updates the class attribute self.transactions\n",
    "        \"\"\"\n",
    "        items = set()\n",
    "        for transaction in self.transactions:\n",
    "            for item in transaction:\n",
    "                if item not in self.items:\n",
    "                    items.add(item)\n",
    "        for item in items:\n",
    "            s = set()\n",
    "            s.add(item)\n",
    "            self.items.append(s)\n",
    "\n",
    "    def importTransactions(self):\n",
    "        \"\"\"\n",
    "        Reads in the csv file of transactions. The file is assumed to have no header. Each row is a set of items contained within a transaction\n",
    "        \"\"\"\n",
    "        with open(self.path, 'r', newline='') as f:\n",
    "            reader = csv.reader(f)\n",
    "            for row in reader:\n",
    "                cleanedRow = []\n",
    "                for item in row:\n",
    "                    cleanedRow.append(item.strip().upper())\n",
    "                self.transactions.append(set(cleanedRow))\n",
    "\n",
    "    def calculateSupport(self, itemset:set)->float:\n",
    "        \"\"\"\n",
    "        Calculates the support value of a set by dividing the number of transactions a set occurs in with the total number of transactions\n",
    "\n",
    "        Parameters\n",
    "        itemset (set): A set of items\n",
    "\n",
    "        Returns:\n",
    "        float: The support value for that set (rule)\n",
    "\n",
    "        \"\"\"\n",
    "        return self.count(itemset) / len(self.transactions)\n",
    "\n",
    "    def calculateConfidence(self, itemset:set, body:set)->float:\n",
    "        \"\"\"\n",
    "        Calculates how often items in Y appear in transactions containing X\n",
    "\n",
    "        Parameters\n",
    "        set (set): A set of items\n",
    "\n",
    "        Returns\n",
    "        float: The confidence value for that set (rule)\n",
    "\n",
    "        \"\"\"\n",
    "        return self.calculateSupport(itemset) / self.calculateSupport(body)\n",
    "\n",
    "    def calculateLift(self, body:list, head:list, confidence:float)->float:\n",
    "        \"\"\"\n",
    "        Calculates the importance of a rule\n",
    "        \"\"\"\n",
    "        bodySupport = self.calculateSupport(body)\n",
    "        headSupport = self.calculateSupport(head)\n",
    "        return confidence / ((bodySupport * headSupport) / bodySupport)\n",
    "\n",
    "    def count(self, s:set)->int:\n",
    "        \"\"\"\n",
    "        Parameters\n",
    "        set (set): A set of items\n",
    "\n",
    "        Returns:\n",
    "        int: Frequency count for how many times s is a subset of a transaction t\n",
    "        \"\"\"\n",
    "        count = 0\n",
    "        for transaction in self.transactions:\n",
    "            if set(s).issubset(transaction):\n",
    "                count += 1\n",
    "        return count\n",
    "\n",
    "    def prune(self, itemsets:list, infrequentSets:list)->list:\n",
    "        \"\"\"\n",
    "        Prunes itemsets from the list of itemsets if any of the sets in infrequentSets are subsets of the itemset\n",
    "\n",
    "        Parameter\n",
    "        itemsets (list): A list of itemsets to prune\n",
    "        infrequentSets (list): A list of subsets to check\n",
    "\n",
    "        Returns\n",
    "        list: A pruned list of itemsets\n",
    "        \"\"\"\n",
    "        if len(infrequentSets) == 0:\n",
    "            return itemsets\n",
    "        else:\n",
    "            prunedSets = []\n",
    "\n",
    "            for i in range(len(itemsets)):\n",
    "                print(str(round(i / len(itemsets) * 100, 2)) + \"%\", end=\"\")\n",
    "                print(\"\\r\", end=\"\")\n",
    "                for j in range(len(infrequentSets)):\n",
    "                    if (not infrequentSets[j].issubset(itemsets[i])) and (itemsets[i] not in prunedSets):\n",
    "                        prunedSets.append(itemsets[i])\n",
    "            return prunedSets\n"
   ]
  },
  {
   "cell_type": "code",
   "execution_count": 43,
   "metadata": {},
   "outputs": [],
   "source": [
    "def displayAssociationRules(associationRules:list):\n",
    "    \"\"\"\n",
    "    Displays each association rule in a df alongside itemset frequency, \n",
    "    lift, confidence and support values.\n",
    "\n",
    "    Parameters:\n",
    "    associationRules (list): A list of sorted association rules\n",
    "    \"\"\"\n",
    "    ruleList = []\n",
    "    for associationRule in associationRules:\n",
    "        rule = [str(associationRule), len(associationRule.itemset), round(associationRule.lift, 2),       associationRule.confidence, associationRule.support]\n",
    "        ruleList.append(rule)\n",
    "\n",
    "    pd.set_option('display.max_rows', 500)\n",
    "    pd.set_option('display.max_columns', 500)\n",
    "    pd.set_option('display.width', 150)\n",
    "    df = pd.DataFrame(ruleList, columns=[\"Rule\", \"Length\", \"Lift\", \"Conf\", \"Sup\"])\n",
    "    print(df.to_string(index=False))"
   ]
  },
  {
   "source": [
    "## Task 3"
   ],
   "cell_type": "markdown",
   "metadata": {}
  },
  {
   "cell_type": "code",
   "execution_count": 44,
   "metadata": {},
   "outputs": [
    {
     "output_type": "stream",
     "name": "stdout",
     "text": [
      "Finding association rules from 5 transactions and 6 unique items...\nk: 2    \nk: 3    \nk: 4    \nk: 5    \nk: 6    \nComplete.\nFound 97 rules from 35 itemsets in 0.0 seconds.\n"
     ]
    }
   ],
   "source": [
    "startTime = time.time()\n",
    "path = 'task1.csv'\n",
    "apriori = Apriori(minsup=0.15, minconf=0.8, minlift=0, path=path)\n",
    "frequentSets, associationRules = apriori.run()\n",
    "print(\"Found {} rules from {} itemsets in {} seconds.\".format(len(associationRules), len(frequentSets), round(time.time() - startTime, 2)))"
   ]
  },
  {
   "cell_type": "code",
   "execution_count": 45,
   "metadata": {},
   "outputs": [
    {
     "output_type": "stream",
     "name": "stdout",
     "text": [
      "[{'B'}, {'A'}, {'C'}, {'D'}, {'E'}, {'F'}, {'A', 'B'}, {'B', 'C'}, {'B', 'D'}, {'B', 'E'}, {'B', 'F'}, {'A', 'C'}, {'A', 'D'}, {'A', 'F'}, {'D', 'C'}, {'E', 'C'}, {'C', 'F'}, {'D', 'F'}, {'A', 'B', 'C'}, {'A', 'B', 'D'}, {'A', 'B', 'F'}, {'D', 'B', 'C'}, {'B', 'C', 'E'}, {'B', 'C', 'F'}, {'B', 'D', 'F'}, {'A', 'D', 'C'}, {'A', 'C', 'F'}, {'A', 'D', 'F'}, {'D', 'C', 'F'}, {'B', 'C', 'D', 'A'}, {'B', 'C', 'A', 'F'}, {'B', 'D', 'A', 'F'}, {'B', 'D', 'C', 'F'}, {'D', 'C', 'A', 'F'}, {'B', 'A', 'D', 'C', 'F'}]\n"
     ]
    }
   ],
   "source": [
    "print(frequentSets)"
   ]
  },
  {
   "cell_type": "code",
   "execution_count": 46,
   "metadata": {},
   "outputs": [
    {
     "output_type": "stream",
     "name": "stdout",
     "text": [
      "                         Rule  Length  Lift  Conf  Sup\n{'A', 'C', 'D', 'F'} -> {'B'}       5  1.00   1.0  0.2\n{'A', 'D', 'F'} -> {'B', 'C'}       5  1.25   1.0  0.2\n{'C', 'D', 'F'} -> {'A', 'B'}       5  1.25   1.0  0.2\n{'A', 'B', 'D', 'F'} -> {'C'}       5  1.25   1.0  0.2\n{'B', 'C', 'D', 'F'} -> {'A'}       5  1.25   1.0  0.2\n{'F'} -> {'A', 'B', 'C', 'D'}       5  1.67   1.0  0.2\n{'B', 'F'} -> {'A', 'C', 'D'}       5  1.67   1.0  0.2\n{'A', 'F'} -> {'B', 'C', 'D'}       5  1.67   1.0  0.2\n{'D', 'F'} -> {'A', 'B', 'C'}       5  1.67   1.0  0.2\n{'C', 'F'} -> {'A', 'B', 'D'}       5  1.67   1.0  0.2\n{'A', 'B', 'F'} -> {'C', 'D'}       5  1.67   1.0  0.2\n{'B', 'D', 'F'} -> {'A', 'C'}       5  1.67   1.0  0.2\n{'B', 'C', 'F'} -> {'A', 'D'}       5  1.67   1.0  0.2\n{'A', 'C', 'F'} -> {'B', 'D'}       5  1.67   1.0  0.2\n{'A', 'B', 'C', 'F'} -> {'D'}       5  1.67   1.0  0.2\n     {'A', 'D', 'C'} -> {'B'}       4  1.00   1.0  0.6\n     {'A', 'C', 'F'} -> {'B'}       4  1.00   1.0  0.2\n     {'A', 'D', 'F'} -> {'B'}       4  1.00   1.0  0.2\n     {'C', 'D', 'F'} -> {'B'}       4  1.00   1.0  0.2\n     {'C', 'F'} -> {'A', 'B'}       4  1.25   1.0  0.2\n     {'A', 'F'} -> {'B', 'C'}       4  1.25   1.0  0.2\n     {'B', 'C', 'F'} -> {'A'}       4  1.25   1.0  0.2\n     {'A', 'B', 'F'} -> {'C'}       4  1.25   1.0  0.2\n     {'D', 'F'} -> {'A', 'B'}       4  1.25   1.0  0.2\n     {'B', 'D', 'F'} -> {'A'}       4  1.25   1.0  0.2\n     {'D', 'F'} -> {'B', 'C'}       4  1.25   1.0  0.2\n     {'B', 'D', 'F'} -> {'C'}       4  1.25   1.0  0.2\n     {'C', 'D', 'F'} -> {'A'}       4  1.25   1.0  0.2\n     {'A', 'D', 'F'} -> {'C'}       4  1.25   1.0  0.2\n     {'D', 'C'} -> {'A', 'B'}       4  1.25   1.0  0.6\n     {'A', 'D'} -> {'B', 'C'}       4  1.25   1.0  0.6\n     {'D', 'B', 'C'} -> {'A'}       4  1.25   1.0  0.6\n     {'A', 'B', 'D'} -> {'C'}       4  1.25   1.0  0.6\n     {'D'} -> {'A', 'B', 'C'}       4  1.67   1.0  0.6\n     {'B', 'D'} -> {'A', 'C'}       4  1.67   1.0  0.6\n     {'A', 'C'} -> {'B', 'D'}       4  1.67   1.0  0.6\n     {'A', 'B', 'C'} -> {'D'}       4  1.67   1.0  0.6\n     {'F'} -> {'A', 'B', 'C'}       4  1.67   1.0  0.2\n     {'B', 'F'} -> {'A', 'C'}       4  1.67   1.0  0.2\n     {'F'} -> {'A', 'B', 'D'}       4  1.67   1.0  0.2\n     {'B', 'F'} -> {'A', 'D'}       4  1.67   1.0  0.2\n     {'A', 'F'} -> {'B', 'D'}       4  1.67   1.0  0.2\n     {'A', 'B', 'F'} -> {'D'}       4  1.67   1.0  0.2\n     {'F'} -> {'B', 'C', 'D'}       4  1.67   1.0  0.2\n     {'B', 'F'} -> {'C', 'D'}       4  1.67   1.0  0.2\n     {'C', 'F'} -> {'B', 'D'}       4  1.67   1.0  0.2\n     {'B', 'C', 'F'} -> {'D'}       4  1.67   1.0  0.2\n     {'F'} -> {'A', 'C', 'D'}       4  1.67   1.0  0.2\n     {'D', 'F'} -> {'A', 'C'}       4  1.67   1.0  0.2\n     {'C', 'F'} -> {'A', 'D'}       4  1.67   1.0  0.2\n     {'A', 'F'} -> {'C', 'D'}       4  1.67   1.0  0.2\n     {'A', 'C', 'F'} -> {'D'}       4  1.67   1.0  0.2\n          {'A', 'C'} -> {'B'}       3  1.00   1.0  0.6\n          {'A', 'D'} -> {'B'}       3  1.00   1.0  0.6\n          {'C', 'D'} -> {'B'}       3  1.00   1.0  0.6\n          {'A', 'F'} -> {'B'}       3  1.00   1.0  0.2\n          {'E', 'C'} -> {'B'}       3  1.00   1.0  0.2\n          {'C', 'F'} -> {'B'}       3  1.00   1.0  0.2\n          {'D', 'F'} -> {'B'}       3  1.00   1.0  0.2\n          {'F'} -> {'A', 'B'}       3  1.25   1.0  0.2\n          {'B', 'F'} -> {'A'}       3  1.25   1.0  0.2\n          {'E'} -> {'B', 'C'}       3  1.25   1.0  0.2\n          {'B', 'E'} -> {'C'}       3  1.25   1.0  0.2\n          {'F'} -> {'B', 'C'}       3  1.25   1.0  0.2\n          {'B', 'F'} -> {'C'}       3  1.25   1.0  0.2\n          {'A', 'F'} -> {'C'}       3  1.25   1.0  0.2\n          {'C', 'F'} -> {'A'}       3  1.25   1.0  0.2\n          {'D', 'F'} -> {'A'}       3  1.25   1.0  0.2\n          {'D', 'F'} -> {'C'}       3  1.25   1.0  0.2\n          {'D'} -> {'A', 'B'}       3  1.25   1.0  0.6\n          {'B', 'D'} -> {'A'}       3  1.25   1.0  0.6\n          {'D'} -> {'B', 'C'}       3  1.25   1.0  0.6\n          {'B', 'D'} -> {'C'}       3  1.25   1.0  0.6\n          {'A', 'D'} -> {'C'}       3  1.25   1.0  0.6\n          {'C', 'D'} -> {'A'}       3  1.25   1.0  0.6\n          {'D'} -> {'A', 'C'}       3  1.67   1.0  0.6\n          {'A', 'C'} -> {'D'}       3  1.67   1.0  0.6\n          {'F'} -> {'B', 'D'}       3  1.67   1.0  0.2\n          {'B', 'F'} -> {'D'}       3  1.67   1.0  0.2\n          {'F'} -> {'A', 'C'}       3  1.67   1.0  0.2\n          {'F'} -> {'A', 'D'}       3  1.67   1.0  0.2\n          {'A', 'F'} -> {'D'}       3  1.67   1.0  0.2\n          {'F'} -> {'C', 'D'}       3  1.67   1.0  0.2\n          {'C', 'F'} -> {'D'}       3  1.67   1.0  0.2\n               {'B'} -> {'A'}       2  1.00   0.8  0.8\n               {'B'} -> {'C'}       2  1.00   0.8  0.8\n               {'A'} -> {'B'}       2  1.00   1.0  0.8\n               {'C'} -> {'B'}       2  1.00   1.0  0.8\n               {'D'} -> {'B'}       2  1.00   1.0  0.6\n               {'E'} -> {'B'}       2  1.00   1.0  0.2\n               {'F'} -> {'B'}       2  1.00   1.0  0.2\n               {'F'} -> {'A'}       2  1.25   1.0  0.2\n               {'E'} -> {'C'}       2  1.25   1.0  0.2\n               {'F'} -> {'C'}       2  1.25   1.0  0.2\n               {'D'} -> {'A'}       2  1.25   1.0  0.6\n               {'D'} -> {'C'}       2  1.25   1.0  0.6\n               {'F'} -> {'D'}       2  1.67   1.0  0.2\n"
     ]
    }
   ],
   "source": [
    "displayAssociationRules(associationRules)"
   ]
  },
  {
   "source": [
    "## Task 4"
   ],
   "cell_type": "markdown",
   "metadata": {}
  },
  {
   "source": [
    "### Run Apriori on supermarket.csv "
   ],
   "cell_type": "markdown",
   "metadata": {}
  },
  {
   "source": [
    "#### Minsup = 0.10"
   ],
   "cell_type": "markdown",
   "metadata": {}
  },
  {
   "cell_type": "code",
   "execution_count": null,
   "metadata": {},
   "outputs": [],
   "source": [
    "startTime = time.time()\n",
    "path = 'supermarket.csv'\n",
    "apriori = Apriori(minsup=0.10, minconf=0.8, minlift=0, path=path)\n",
    "frequentSets, associationRules = apriori.run()\n",
    "print(\"Found {} rules from {} itemsets in {} seconds.\".format(len(associationRules), len(frequentSets), round(time.time() - startTime, 2)))"
   ]
  },
  {
   "cell_type": "code",
   "execution_count": null,
   "metadata": {},
   "outputs": [],
   "source": [
    "print(frequentSets)\n",
    "displayAssociationRules(associationRules)"
   ]
  },
  {
   "source": [
    "#### Minsup = 0.15"
   ],
   "cell_type": "markdown",
   "metadata": {}
  },
  {
   "cell_type": "code",
   "execution_count": null,
   "metadata": {},
   "outputs": [],
   "source": [
    "startTime = time.time()\n",
    "path = 'supermarket.csv'\n",
    "apriori = Apriori(minsup=0.15, minconf=0.8, minlift=0, path=path)\n",
    "frequentSets, associationRules = apriori.run()\n",
    "print(\"Found {} rules from {} itemsets in {} seconds.\".format(len(associationRules), len(frequentSets), round(time.time() - startTime, 2)))"
   ]
  },
  {
   "cell_type": "code",
   "execution_count": null,
   "metadata": {},
   "outputs": [],
   "source": [
    "print(frequentSets)\n",
    "displayAssociationRules(associationRules)"
   ]
  },
  {
   "source": [
    "#### Minsup = 0.20"
   ],
   "cell_type": "markdown",
   "metadata": {}
  },
  {
   "cell_type": "code",
   "execution_count": null,
   "metadata": {},
   "outputs": [],
   "source": [
    "startTime = time.time()\n",
    "path = 'supermarket.csv'\n",
    "apriori = Apriori(minsup=0.20, minconf=0.8, minlift=0, path=path)\n",
    "frequentSets, associationRules = apriori.run()\n",
    "print(\"Found {} rules from {} itemsets in {} seconds.\".format(len(associationRules), len(frequentSets), round(time.time() - startTime, 2)))"
   ]
  },
  {
   "source": [
    "print(frequentSets)\n",
    "displayAssociationRules(associationRules)"
   ],
   "cell_type": "code",
   "metadata": {},
   "execution_count": null,
   "outputs": []
  }
 ]
}